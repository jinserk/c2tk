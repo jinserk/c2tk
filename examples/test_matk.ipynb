{
 "cells": [
  {
   "cell_type": "code",
   "execution_count": 3,
   "id": "3388ef40",
   "metadata": {},
   "outputs": [
    {
     "name": "stdout",
     "output_type": "stream",
     "text": [
      "The autoreload extension is already loaded. To reload it, use:\n",
      "  %reload_ext autoreload\n"
     ]
    }
   ],
   "source": [
    "%load_ext autoreload\n",
    "%autoreload 2\n",
    "from matk.conformer import get_conformer"
   ]
  },
  {
   "cell_type": "markdown",
   "id": "410efa39",
   "metadata": {},
   "source": [
    "Guess a conformer geometry of a molecule"
   ]
  },
  {
   "cell_type": "code",
   "execution_count": 4,
   "id": "014ed91c",
   "metadata": {},
   "outputs": [
    {
     "name": "stdout",
     "output_type": "stream",
     "text": [
      "Atoms(symbols='C6NC4NC14H16', pbc=False)\n",
      "42\n",
      "Properties=species:S:1:pos:R:3 pbc=\"F F F\"\n",
      "C        3.22390482      -5.84672380      -0.35388101\n",
      "C        2.04145644      -5.64450693       0.35392754\n",
      "C        1.40229509      -4.39951318       0.33347611\n",
      "C        1.96483511      -3.34310638      -0.41272510\n",
      "C        3.14871648      -3.57782391      -1.11043376\n",
      "C        3.80181296      -4.81611505      -1.10111531\n",
      "N        3.48000974      -2.40494292      -1.74688826\n",
      "C        2.55228571      -1.42302130      -1.48842329\n",
      "C        2.49559555      -0.09721820      -1.93173445\n",
      "C        1.41903767       0.68618813      -1.50136189\n",
      "C        0.43717374       0.15925690      -0.65558475\n",
      "N       -0.64921709       0.97993837      -0.22642985\n",
      "C       -1.13992808       1.05141553       1.08002489\n",
      "C       -0.70716294       0.44573556       2.27911311\n",
      "C       -1.39554848       0.72340073       3.46374848\n",
      "C       -2.47554497       1.59542251       3.47098790\n",
      "C       -2.88060737       2.22377741       2.29111202\n",
      "C       -2.19932832       1.96198057       1.08135927\n",
      "C       -2.34798357       2.46018557      -0.24591365\n",
      "C       -3.23673578       3.38832393      -0.83312109\n",
      "C       -3.16491250       3.65397962      -2.20251664\n",
      "C       -2.23160678       2.99873522      -2.99404042\n",
      "C       -1.33919148       2.07860836      -2.43603771\n",
      "C       -1.38652764       1.83836482      -1.04616786\n",
      "C        0.51364756      -1.17495281      -0.22249751\n",
      "C        1.59131018      -1.98111398      -0.64760324\n",
      "H        3.70569911      -6.82153280      -0.32577490\n",
      "H        1.60871543      -6.45999474       0.92819395\n",
      "H        0.48045568      -4.25107110       0.88788846\n",
      "H        4.72283255      -4.97808011      -1.65145426\n",
      "H        4.29453191      -2.28276584      -2.32983936\n",
      "H        3.26138014       0.31955849      -2.57823121\n",
      "H        1.38983311       1.73010403      -1.80774601\n",
      "H        0.15515836      -0.21369952       2.30528274\n",
      "H       -1.07308107       0.25622226       4.39149908\n",
      "H       -2.99997979       1.80340702       4.40002093\n",
      "H       -3.71358875       2.92086783       2.30842657\n",
      "H       -3.98383892       3.88895651      -0.22375353\n",
      "H       -3.85416994       4.36509382      -2.65046316\n",
      "H       -2.19894785       3.19468404      -4.06335340\n",
      "H       -0.64150545       1.55317172      -3.08089413\n",
      "H       -0.26019436      -1.61433179       0.39982099\n",
      "\n"
     ]
    },
    {
     "ename": "RuntimeError",
     "evalue": "Atoms object has no calculator.",
     "output_type": "error",
     "traceback": [
      "\u001b[0;31m---------------------------------------------------------------------------\u001b[0m",
      "\u001b[0;31mRuntimeError\u001b[0m                              Traceback (most recent call last)",
      "\u001b[0;32m/tmp/ipykernel_403/2134291989.py\u001b[0m in \u001b[0;36m<module>\u001b[0;34m\u001b[0m\n\u001b[1;32m      3\u001b[0m \u001b[0mprint\u001b[0m\u001b[0;34m(\u001b[0m\u001b[0matoms\u001b[0m\u001b[0;34m)\u001b[0m\u001b[0;34m\u001b[0m\u001b[0;34m\u001b[0m\u001b[0m\n\u001b[1;32m      4\u001b[0m \u001b[0mprint\u001b[0m\u001b[0;34m(\u001b[0m\u001b[0matoms\u001b[0m\u001b[0;34m.\u001b[0m\u001b[0mto_xyz\u001b[0m\u001b[0;34m(\u001b[0m\u001b[0;34m)\u001b[0m\u001b[0;34m)\u001b[0m\u001b[0;34m\u001b[0m\u001b[0;34m\u001b[0m\u001b[0m\n\u001b[0;32m----> 5\u001b[0;31m \u001b[0mprint\u001b[0m\u001b[0;34m(\u001b[0m\u001b[0matoms\u001b[0m\u001b[0;34m.\u001b[0m\u001b[0mto_rdmol\u001b[0m\u001b[0;34m(\u001b[0m\u001b[0;34m)\u001b[0m\u001b[0;34m)\u001b[0m\u001b[0;34m\u001b[0m\u001b[0;34m\u001b[0m\u001b[0m\n\u001b[0m",
      "\u001b[0;32m/matk/src/matk/atoms.py\u001b[0m in \u001b[0;36mto_rdmol\u001b[0;34m(self)\u001b[0m\n\u001b[1;32m     14\u001b[0m         \u001b[0matoms\u001b[0m \u001b[0;34m=\u001b[0m \u001b[0;34m[\u001b[0m\u001b[0mint_atom\u001b[0m\u001b[0;34m(\u001b[0m\u001b[0matom\u001b[0m\u001b[0;34m)\u001b[0m \u001b[0;32mfor\u001b[0m \u001b[0matom\u001b[0m \u001b[0;32min\u001b[0m \u001b[0mself\u001b[0m\u001b[0;34m.\u001b[0m\u001b[0msymbols\u001b[0m\u001b[0;34m]\u001b[0m\u001b[0;34m\u001b[0m\u001b[0;34m\u001b[0m\u001b[0m\n\u001b[1;32m     15\u001b[0m         \u001b[0mxyz_pos\u001b[0m \u001b[0;34m=\u001b[0m \u001b[0;34m[\u001b[0m\u001b[0;34m(\u001b[0m\u001b[0mp\u001b[0m\u001b[0;34m[\u001b[0m\u001b[0;36m0\u001b[0m\u001b[0;34m]\u001b[0m\u001b[0;34m,\u001b[0m \u001b[0mp\u001b[0m\u001b[0;34m[\u001b[0m\u001b[0;36m1\u001b[0m\u001b[0;34m]\u001b[0m\u001b[0;34m,\u001b[0m \u001b[0mp\u001b[0m\u001b[0;34m[\u001b[0m\u001b[0;36m2\u001b[0m\u001b[0;34m]\u001b[0m\u001b[0;34m)\u001b[0m \u001b[0;32mfor\u001b[0m \u001b[0mp\u001b[0m \u001b[0;32min\u001b[0m \u001b[0mself\u001b[0m\u001b[0;34m.\u001b[0m\u001b[0mpositions\u001b[0m\u001b[0;34m]\u001b[0m\u001b[0;34m\u001b[0m\u001b[0;34m\u001b[0m\u001b[0m\n\u001b[0;32m---> 16\u001b[0;31m         \u001b[0mcharge\u001b[0m \u001b[0;34m=\u001b[0m \u001b[0mself\u001b[0m\u001b[0;34m.\u001b[0m\u001b[0mget_charges\u001b[0m\u001b[0;34m(\u001b[0m\u001b[0;34m)\u001b[0m\u001b[0;34m\u001b[0m\u001b[0;34m\u001b[0m\u001b[0m\n\u001b[0m\u001b[1;32m     17\u001b[0m         mols = xyz2mol(atoms, xyz_pos, charge=charge,\n\u001b[1;32m     18\u001b[0m                        \u001b[0muse_graph\u001b[0m\u001b[0;34m=\u001b[0m\u001b[0;32mTrue\u001b[0m\u001b[0;34m,\u001b[0m\u001b[0;34m\u001b[0m\u001b[0;34m\u001b[0m\u001b[0m\n",
      "\u001b[0;32m/usr/local/lib/python3.9/site-packages/ase/atoms.py\u001b[0m in \u001b[0;36mget_charges\u001b[0;34m(self)\u001b[0m\n\u001b[1;32m    676\u001b[0m         \u001b[0;34m\"\"\"Get calculated charges.\"\"\"\u001b[0m\u001b[0;34m\u001b[0m\u001b[0;34m\u001b[0m\u001b[0m\n\u001b[1;32m    677\u001b[0m         \u001b[0;32mif\u001b[0m \u001b[0mself\u001b[0m\u001b[0;34m.\u001b[0m\u001b[0m_calc\u001b[0m \u001b[0;32mis\u001b[0m \u001b[0;32mNone\u001b[0m\u001b[0;34m:\u001b[0m\u001b[0;34m\u001b[0m\u001b[0;34m\u001b[0m\u001b[0m\n\u001b[0;32m--> 678\u001b[0;31m             \u001b[0;32mraise\u001b[0m \u001b[0mRuntimeError\u001b[0m\u001b[0;34m(\u001b[0m\u001b[0;34m'Atoms object has no calculator.'\u001b[0m\u001b[0;34m)\u001b[0m\u001b[0;34m\u001b[0m\u001b[0;34m\u001b[0m\u001b[0m\n\u001b[0m\u001b[1;32m    679\u001b[0m         \u001b[0;32mtry\u001b[0m\u001b[0;34m:\u001b[0m\u001b[0;34m\u001b[0m\u001b[0;34m\u001b[0m\u001b[0m\n\u001b[1;32m    680\u001b[0m             \u001b[0;32mreturn\u001b[0m \u001b[0mself\u001b[0m\u001b[0;34m.\u001b[0m\u001b[0m_calc\u001b[0m\u001b[0;34m.\u001b[0m\u001b[0mget_charges\u001b[0m\u001b[0;34m(\u001b[0m\u001b[0mself\u001b[0m\u001b[0;34m)\u001b[0m\u001b[0;34m\u001b[0m\u001b[0;34m\u001b[0m\u001b[0m\n",
      "\u001b[0;31mRuntimeError\u001b[0m: Atoms object has no calculator."
     ]
    }
   ],
   "source": [
    "smiles = \"c1ccc2c(c1)[nH]c1ccc(-n3c4ccccc4c4ccccc43)cc12\"\n",
    "atoms = get_conformer(smiles)\n",
    "print(atoms)\n",
    "print(atoms.to_xyz())\n",
    "print(atoms.to_rdmol())"
   ]
  },
  {
   "cell_type": "markdown",
   "id": "6312c010",
   "metadata": {},
   "source": [
    "You can pre-optimization of the geometry using EMT()"
   ]
  },
  {
   "cell_type": "code",
   "execution_count": null,
   "id": "01a52451",
   "metadata": {},
   "outputs": [],
   "source": [
    "from matk.nwchem import pre_optimize\n",
    "atoms = pre_optimize(atoms)\n",
    "print(atoms.to_xyz())"
   ]
  },
  {
   "cell_type": "code",
   "execution_count": null,
   "id": "5f06b757",
   "metadata": {},
   "outputs": [],
   "source": []
  }
 ],
 "metadata": {
  "kernelspec": {
   "display_name": "Python 3 (ipykernel)",
   "language": "python",
   "name": "python3"
  },
  "language_info": {
   "codemirror_mode": {
    "name": "ipython",
    "version": 3
   },
   "file_extension": ".py",
   "mimetype": "text/x-python",
   "name": "python",
   "nbconvert_exporter": "python",
   "pygments_lexer": "ipython3",
   "version": "3.9.7"
  }
 },
 "nbformat": 4,
 "nbformat_minor": 5
}
