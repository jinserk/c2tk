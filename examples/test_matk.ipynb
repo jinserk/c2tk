{
 "cells": [
  {
   "cell_type": "code",
   "execution_count": 10,
   "id": "3388ef40",
   "metadata": {},
   "outputs": [
    {
     "name": "stdout",
     "output_type": "stream",
     "text": [
      "The autoreload extension is already loaded. To reload it, use:\n",
      "  %reload_ext autoreload\n"
     ]
    }
   ],
   "source": [
    "%load_ext autoreload\n",
    "%autoreload 2\n",
    "from matk.conformer import get_atoms, pre_optimize"
   ]
  },
  {
   "cell_type": "markdown",
   "id": "410efa39",
   "metadata": {},
   "source": [
    "Guess a conformer geometry of a molecule"
   ]
  },
  {
   "cell_type": "code",
   "execution_count": 11,
   "id": "014ed91c",
   "metadata": {},
   "outputs": [
    {
     "name": "stdout",
     "output_type": "stream",
     "text": [
      "[[-3.67283773 -5.40308691  0.0275949 ]\n",
      " [-4.04776105 -4.11102723  0.38826576]\n",
      " [-3.16146248 -3.03998788  0.22608506]\n",
      " [-1.87785421 -3.27659138 -0.30835921]\n",
      " [-1.53333813 -4.58091779 -0.65979384]\n",
      " [-2.40656498 -5.66409966 -0.50430054]\n",
      " [-0.24910122 -4.53992831 -1.14921668]\n",
      " [ 0.24677906 -3.25721051 -1.12964452]\n",
      " [ 1.49215455 -2.76587716 -1.53599898]\n",
      " [ 1.72563622 -1.39321645 -1.39739697]\n",
      " [ 0.746491   -0.54557629 -0.86840489]\n",
      " [ 1.01022666  0.85083302 -0.73268391]\n",
      " [ 0.70460883  1.62472097  0.3900026 ]\n",
      " [ 0.15816286  1.28178533  1.64528651]\n",
      " [-0.02032581  2.28531813  2.60205061]\n",
      " [ 0.35043548  3.59615541  2.33538864]\n",
      " [ 0.92571306  3.92873062  1.10678719]\n",
      " [ 1.11930793  2.93197483  0.12435194]\n",
      " [ 1.69649099  2.95017575 -1.17890857]\n",
      " [ 2.27446646  3.97365778 -1.96284874]\n",
      " [ 2.73189215  3.69197746 -3.25218687]\n",
      " [ 2.60855467  2.41152428 -3.77385968]\n",
      " [ 2.04330316  1.38113177 -3.01676826]\n",
      " [ 1.61577195  1.65671035 -1.70034538]\n",
      " [-0.49740643 -1.06021395 -0.46666287]\n",
      " [-0.75189007 -2.44198514 -0.60050561]\n",
      " [-4.3757418  -6.22240141  0.1610743 ]\n",
      " [-5.03780467 -3.93012983  0.79954937]\n",
      " [-3.46248994 -2.03587567  0.5095239 ]\n",
      " [-2.11872289 -6.67210295 -0.78440412]\n",
      " [ 0.26023072 -5.34478475 -1.48237492]\n",
      " [ 2.25930364 -3.42142444 -1.93578267]\n",
      " [ 2.70641093 -1.00967397 -1.67209873]\n",
      " [-0.10872163  0.25802821  1.88989039]\n",
      " [-0.44663719  2.03144629  3.56991937]\n",
      " [ 0.20759236  4.36557688  3.08969536]\n",
      " [ 1.23238245  4.95269787  0.91304169]\n",
      " [ 2.35477734  4.98296749 -1.56918756]\n",
      " [ 3.17120237  4.48391933 -3.85322767]\n",
      " [ 2.94612811  2.20740163 -4.78740332]\n",
      " [ 1.92596516  0.39647607 -3.45877994]\n",
      " [-1.28496641 -0.41272481 -0.09293405]]\n"
     ]
    }
   ],
   "source": [
    "smiles = \"c1ccc2c(c1)[nH]c1ccc(-n3c4ccccc4c4ccccc43)cc12\"\n",
    "atoms = get_atoms(smiles)\n",
    "print(atoms.positions)"
   ]
  },
  {
   "cell_type": "markdown",
   "id": "6312c010",
   "metadata": {},
   "source": [
    "You can pre-optimization of the geometry using EMT()"
   ]
  },
  {
   "cell_type": "code",
   "execution_count": 12,
   "id": "01a52451",
   "metadata": {},
   "outputs": [
    {
     "name": "stdout",
     "output_type": "stream",
     "text": [
      "[[-1.57360328 -2.91665604 -0.58802185]\n",
      " [-1.39502478 -2.72276503  1.0290459 ]\n",
      " [-1.62961052 -2.00936207 -1.67551395]\n",
      " [-1.09952191 -1.64002168  0.17804189]\n",
      " [-0.2234898  -3.19343594  0.27732856]\n",
      " [-1.38889065 -3.83984146  0.47997169]\n",
      " [-0.60129844 -1.3399675  -2.20197273]\n",
      " [-0.20387126 -2.39548508 -1.03219148]\n",
      " [ 0.49241362 -1.11450301 -1.15372075]\n",
      " [-0.38714167  0.0712477  -1.77651435]\n",
      " [-0.26495057 -0.30579163 -0.02129769]\n",
      " [ 1.22187799 -0.84132736  0.3016546 ]\n",
      " [-0.34885783  1.26563556 -0.81178825]\n",
      " [ 1.10312895  0.42370257  0.82485338]\n",
      " [-0.27347385  1.02819061  0.63052521]\n",
      " [ 0.94947806  1.78956742  1.08690272]\n",
      " [ 0.1267295   2.3451892   0.18341972]\n",
      " [ 1.57209817  1.72196743 -0.20415814]\n",
      " [ 0.57687422  2.44132716 -1.21459106]\n",
      " [ 2.14288911  2.44362042 -1.35743549]\n",
      " [ 1.35764732  2.2749239  -2.41733686]\n",
      " [ 1.98054805  1.15459604 -1.67756572]\n",
      " [ 0.52145906  1.1905564  -2.11732697]\n",
      " [ 1.06300002  0.35120707 -0.79133994]\n",
      " [ 0.36480035 -1.87104872  0.44226291]\n",
      " [-1.39324586 -0.76244198 -1.05789172]\n",
      " [-2.19920782 -4.13295006 -0.76598569]\n",
      " [-2.77925697 -3.07683296  0.24414037]\n",
      " [-2.61245349 -1.67655099 -0.31640701]\n",
      " [-0.68126196 -4.27564412 -0.79650727]\n",
      " [-0.88467577 -3.42982364 -1.9307177 ]\n",
      " [ 1.4919973  -2.21019721 -0.72708674]\n",
      " [ 2.05030584 -0.80674754 -1.13980443]\n",
      " [-0.32027932 -0.64475271  1.49312837]\n",
      " [ 0.18598604  0.6663367   2.03436954]\n",
      " [-0.3841884   2.0293207   1.74051251]\n",
      " [ 1.43301645  3.34137487 -0.12199293]\n",
      " [ 1.34787669  3.69880336 -1.58084773]\n",
      " [ 2.72751943  1.84422022 -2.79828255]\n",
      " [ 1.68472718  0.85220837 -3.12220055]\n",
      " [ 1.2991837  -0.3393074  -2.35486969]\n",
      " [-1.58889139 -0.27416854  0.71164095]]\n"
     ]
    }
   ],
   "source": [
    "atoms = pre_optimize(atoms)\n",
    "print(atoms.positions)"
   ]
  },
  {
   "cell_type": "code",
   "execution_count": 13,
   "id": "5f06b757",
   "metadata": {},
   "outputs": [
    {
     "name": "stderr",
     "output_type": "stream",
     "text": [
      "--------------------------------------------------------------------------\n",
      "mpirun could not find anything to do.\n",
      "\n",
      "It is possible that you forgot to specify how many processes to run\n",
      "via the \"-np\" argument.\n",
      "--------------------------------------------------------------------------\n"
     ]
    },
    {
     "ename": "CalculationFailed",
     "evalue": "Calculator \"nwchem\" failed with command \"mpirun -np 8 nwchem_openmpi nwchem.nwi >> nwchem.nwo 2> nwchem.err\" failed in /matk/scratch with error code 1",
     "output_type": "error",
     "traceback": [
      "\u001b[0;31m---------------------------------------------------------------------------\u001b[0m",
      "\u001b[0;31mCalculationFailed\u001b[0m                         Traceback (most recent call last)",
      "\u001b[0;32m/tmp/ipykernel_807/1290149983.py\u001b[0m in \u001b[0;36m<module>\u001b[0;34m\u001b[0m\n\u001b[1;32m     10\u001b[0m \u001b[0matoms\u001b[0m\u001b[0;34m.\u001b[0m\u001b[0mcalc\u001b[0m \u001b[0;34m=\u001b[0m \u001b[0mcalc\u001b[0m\u001b[0;34m\u001b[0m\u001b[0;34m\u001b[0m\u001b[0m\n\u001b[1;32m     11\u001b[0m \u001b[0;34m\u001b[0m\u001b[0m\n\u001b[0;32m---> 12\u001b[0;31m \u001b[0me1\u001b[0m \u001b[0;34m=\u001b[0m \u001b[0matoms\u001b[0m\u001b[0;34m.\u001b[0m\u001b[0mget_potential_energy\u001b[0m\u001b[0;34m(\u001b[0m\u001b[0;34m)\u001b[0m\u001b[0;34m\u001b[0m\u001b[0;34m\u001b[0m\u001b[0m\n\u001b[0m\u001b[1;32m     13\u001b[0m \u001b[0mprint\u001b[0m\u001b[0;34m(\u001b[0m\u001b[0;34mf'test molecule energy: {e1:5.2f} eV'\u001b[0m\u001b[0;34m)\u001b[0m\u001b[0;34m\u001b[0m\u001b[0;34m\u001b[0m\u001b[0m\n",
      "\u001b[0;32m/usr/local/lib/python3.9/site-packages/ase/atoms.py\u001b[0m in \u001b[0;36mget_potential_energy\u001b[0;34m(self, force_consistent, apply_constraint)\u001b[0m\n\u001b[1;32m    729\u001b[0m                 self, force_consistent=force_consistent)\n\u001b[1;32m    730\u001b[0m         \u001b[0;32melse\u001b[0m\u001b[0;34m:\u001b[0m\u001b[0;34m\u001b[0m\u001b[0;34m\u001b[0m\u001b[0m\n\u001b[0;32m--> 731\u001b[0;31m             \u001b[0menergy\u001b[0m \u001b[0;34m=\u001b[0m \u001b[0mself\u001b[0m\u001b[0;34m.\u001b[0m\u001b[0m_calc\u001b[0m\u001b[0;34m.\u001b[0m\u001b[0mget_potential_energy\u001b[0m\u001b[0;34m(\u001b[0m\u001b[0mself\u001b[0m\u001b[0;34m)\u001b[0m\u001b[0;34m\u001b[0m\u001b[0;34m\u001b[0m\u001b[0m\n\u001b[0m\u001b[1;32m    732\u001b[0m         \u001b[0;32mif\u001b[0m \u001b[0mapply_constraint\u001b[0m\u001b[0;34m:\u001b[0m\u001b[0;34m\u001b[0m\u001b[0;34m\u001b[0m\u001b[0m\n\u001b[1;32m    733\u001b[0m             \u001b[0;32mfor\u001b[0m \u001b[0mconstraint\u001b[0m \u001b[0;32min\u001b[0m \u001b[0mself\u001b[0m\u001b[0;34m.\u001b[0m\u001b[0mconstraints\u001b[0m\u001b[0;34m:\u001b[0m\u001b[0;34m\u001b[0m\u001b[0;34m\u001b[0m\u001b[0m\n",
      "\u001b[0;32m/usr/local/lib/python3.9/site-packages/ase/calculators/calculator.py\u001b[0m in \u001b[0;36mget_potential_energy\u001b[0;34m(self, atoms, force_consistent)\u001b[0m\n\u001b[1;32m    707\u001b[0m \u001b[0;34m\u001b[0m\u001b[0m\n\u001b[1;32m    708\u001b[0m     \u001b[0;32mdef\u001b[0m \u001b[0mget_potential_energy\u001b[0m\u001b[0;34m(\u001b[0m\u001b[0mself\u001b[0m\u001b[0;34m,\u001b[0m \u001b[0matoms\u001b[0m\u001b[0;34m=\u001b[0m\u001b[0;32mNone\u001b[0m\u001b[0;34m,\u001b[0m \u001b[0mforce_consistent\u001b[0m\u001b[0;34m=\u001b[0m\u001b[0;32mFalse\u001b[0m\u001b[0;34m)\u001b[0m\u001b[0;34m:\u001b[0m\u001b[0;34m\u001b[0m\u001b[0;34m\u001b[0m\u001b[0m\n\u001b[0;32m--> 709\u001b[0;31m         \u001b[0menergy\u001b[0m \u001b[0;34m=\u001b[0m \u001b[0mself\u001b[0m\u001b[0;34m.\u001b[0m\u001b[0mget_property\u001b[0m\u001b[0;34m(\u001b[0m\u001b[0;34m'energy'\u001b[0m\u001b[0;34m,\u001b[0m \u001b[0matoms\u001b[0m\u001b[0;34m)\u001b[0m\u001b[0;34m\u001b[0m\u001b[0;34m\u001b[0m\u001b[0m\n\u001b[0m\u001b[1;32m    710\u001b[0m         \u001b[0;32mif\u001b[0m \u001b[0mforce_consistent\u001b[0m\u001b[0;34m:\u001b[0m\u001b[0;34m\u001b[0m\u001b[0;34m\u001b[0m\u001b[0m\n\u001b[1;32m    711\u001b[0m             \u001b[0;32mif\u001b[0m \u001b[0;34m'free_energy'\u001b[0m \u001b[0;32mnot\u001b[0m \u001b[0;32min\u001b[0m \u001b[0mself\u001b[0m\u001b[0;34m.\u001b[0m\u001b[0mresults\u001b[0m\u001b[0;34m:\u001b[0m\u001b[0;34m\u001b[0m\u001b[0;34m\u001b[0m\u001b[0m\n",
      "\u001b[0;32m/usr/local/lib/python3.9/site-packages/ase/calculators/calculator.py\u001b[0m in \u001b[0;36mget_property\u001b[0;34m(self, name, atoms, allow_calculation)\u001b[0m\n\u001b[1;32m    735\u001b[0m             \u001b[0;32mif\u001b[0m \u001b[0;32mnot\u001b[0m \u001b[0mallow_calculation\u001b[0m\u001b[0;34m:\u001b[0m\u001b[0;34m\u001b[0m\u001b[0;34m\u001b[0m\u001b[0m\n\u001b[1;32m    736\u001b[0m                 \u001b[0;32mreturn\u001b[0m \u001b[0;32mNone\u001b[0m\u001b[0;34m\u001b[0m\u001b[0;34m\u001b[0m\u001b[0m\n\u001b[0;32m--> 737\u001b[0;31m             \u001b[0mself\u001b[0m\u001b[0;34m.\u001b[0m\u001b[0mcalculate\u001b[0m\u001b[0;34m(\u001b[0m\u001b[0matoms\u001b[0m\u001b[0;34m,\u001b[0m \u001b[0;34m[\u001b[0m\u001b[0mname\u001b[0m\u001b[0;34m]\u001b[0m\u001b[0;34m,\u001b[0m \u001b[0msystem_changes\u001b[0m\u001b[0;34m)\u001b[0m\u001b[0;34m\u001b[0m\u001b[0;34m\u001b[0m\u001b[0m\n\u001b[0m\u001b[1;32m    738\u001b[0m \u001b[0;34m\u001b[0m\u001b[0m\n\u001b[1;32m    739\u001b[0m         \u001b[0;32mif\u001b[0m \u001b[0mname\u001b[0m \u001b[0;32mnot\u001b[0m \u001b[0;32min\u001b[0m \u001b[0mself\u001b[0m\u001b[0;34m.\u001b[0m\u001b[0mresults\u001b[0m\u001b[0;34m:\u001b[0m\u001b[0;34m\u001b[0m\u001b[0;34m\u001b[0m\u001b[0m\n",
      "\u001b[0;32m/matk/src/matk/calculators/calculator.py\u001b[0m in \u001b[0;36mcalculate\u001b[0;34m(self, atoms, properties, system_changes)\u001b[0m\n\u001b[1;32m     21\u001b[0m         \u001b[0mCalculator\u001b[0m\u001b[0;34m.\u001b[0m\u001b[0mcalculate\u001b[0m\u001b[0;34m(\u001b[0m\u001b[0mself\u001b[0m\u001b[0;34m,\u001b[0m \u001b[0matoms\u001b[0m\u001b[0;34m,\u001b[0m \u001b[0mproperties\u001b[0m\u001b[0;34m,\u001b[0m \u001b[0msystem_changes\u001b[0m\u001b[0;34m)\u001b[0m\u001b[0;34m\u001b[0m\u001b[0;34m\u001b[0m\u001b[0m\n\u001b[1;32m     22\u001b[0m         \u001b[0mself\u001b[0m\u001b[0;34m.\u001b[0m\u001b[0mwrite_input\u001b[0m\u001b[0;34m(\u001b[0m\u001b[0mself\u001b[0m\u001b[0;34m.\u001b[0m\u001b[0matoms\u001b[0m\u001b[0;34m,\u001b[0m \u001b[0mproperties\u001b[0m\u001b[0;34m,\u001b[0m \u001b[0msystem_changes\u001b[0m\u001b[0;34m)\u001b[0m\u001b[0;34m\u001b[0m\u001b[0;34m\u001b[0m\u001b[0m\n\u001b[0;32m---> 23\u001b[0;31m         \u001b[0mself\u001b[0m\u001b[0;34m.\u001b[0m\u001b[0mexecute\u001b[0m\u001b[0;34m(\u001b[0m\u001b[0;34m)\u001b[0m\u001b[0;34m\u001b[0m\u001b[0;34m\u001b[0m\u001b[0m\n\u001b[0m\u001b[1;32m     24\u001b[0m         \u001b[0mself\u001b[0m\u001b[0;34m.\u001b[0m\u001b[0mread_results\u001b[0m\u001b[0;34m(\u001b[0m\u001b[0;34m)\u001b[0m\u001b[0;34m\u001b[0m\u001b[0;34m\u001b[0m\u001b[0m\n\u001b[1;32m     25\u001b[0m \u001b[0;34m\u001b[0m\u001b[0m\n",
      "\u001b[0;32m/matk/src/matk/calculators/calculator.py\u001b[0m in \u001b[0;36mexecute\u001b[0;34m(self)\u001b[0m\n\u001b[1;32m     41\u001b[0m                        '{} with error code {}'.format(self.name, command,\n\u001b[1;32m     42\u001b[0m                                                       self.directory, r.returncode))\n\u001b[0;32m---> 43\u001b[0;31m                 \u001b[0;32mraise\u001b[0m \u001b[0mCalculationFailed\u001b[0m\u001b[0;34m(\u001b[0m\u001b[0mmsg\u001b[0m\u001b[0;34m)\u001b[0m\u001b[0;34m\u001b[0m\u001b[0;34m\u001b[0m\u001b[0m\n\u001b[0m\u001b[1;32m     44\u001b[0m         \u001b[0;32mexcept\u001b[0m \u001b[0mOSError\u001b[0m \u001b[0;32mas\u001b[0m \u001b[0merr\u001b[0m\u001b[0;34m:\u001b[0m\u001b[0;34m\u001b[0m\u001b[0;34m\u001b[0m\u001b[0m\n\u001b[1;32m     45\u001b[0m             \u001b[0;31m# Actually this may never happen with shell=True, since\u001b[0m\u001b[0;34m\u001b[0m\u001b[0;34m\u001b[0m\u001b[0m\n",
      "\u001b[0;31mCalculationFailed\u001b[0m: Calculator \"nwchem\" failed with command \"mpirun -np 8 nwchem_openmpi nwchem.nwi >> nwchem.nwo 2> nwchem.err\" failed in /matk/scratch with error code 1"
     ]
    }
   ],
   "source": [
    "from matk.calculators.nwchem import NWChem\n",
    "\n",
    "calc = NWChem(label='nwchem',\n",
    "              dft={\n",
    "                'maxiter': 2000,\n",
    "                'xc': 'B3LYP',\n",
    "              }, \n",
    "              basis='6-31+G*',\n",
    "             )\n",
    "atoms.calc = calc                                                                                                                                                                                                                                                          \n",
    "                                                                                                                                                                                                                                                                               \n",
    "e1 = atoms.get_potential_energy()                                                                                                                                                                                                                                                          \n",
    "print(f'test molecule energy: {e1:5.2f} eV')"
   ]
  },
  {
   "cell_type": "code",
   "execution_count": null,
   "id": "31b4e5b9",
   "metadata": {},
   "outputs": [],
   "source": []
  }
 ],
 "metadata": {
  "kernelspec": {
   "display_name": "Python 3 (ipykernel)",
   "language": "python",
   "name": "python3"
  },
  "language_info": {
   "codemirror_mode": {
    "name": "ipython",
    "version": 3
   },
   "file_extension": ".py",
   "mimetype": "text/x-python",
   "name": "python",
   "nbconvert_exporter": "python",
   "pygments_lexer": "ipython3",
   "version": "3.9.7"
  }
 },
 "nbformat": 4,
 "nbformat_minor": 5
}
