{
 "cells": [
  {
   "cell_type": "code",
   "execution_count": 5,
   "id": "3388ef40",
   "metadata": {},
   "outputs": [
    {
     "name": "stdout",
     "output_type": "stream",
     "text": [
      "The autoreload extension is already loaded. To reload it, use:\n",
      "  %reload_ext autoreload\n"
     ]
    }
   ],
   "source": [
    "%load_ext autoreload\n",
    "%autoreload 2\n",
    "from matk.conformer import get_atoms, pre_optimize"
   ]
  },
  {
   "cell_type": "markdown",
   "id": "410efa39",
   "metadata": {},
   "source": [
    "Guess a conformer geometry of a molecule"
   ]
  },
  {
   "cell_type": "code",
   "execution_count": 6,
   "id": "014ed91c",
   "metadata": {},
   "outputs": [
    {
     "name": "stdout",
     "output_type": "stream",
     "text": [
      "[[-2.44750097 -6.50580232 -0.26596324]\n",
      " [-3.05777637 -5.40969129  0.33915878]\n",
      " [-2.50039559 -4.13084465  0.22588509]\n",
      " [-1.30921639 -3.95586901 -0.50878383]\n",
      " [-0.72296918 -5.07296795 -1.10196872]\n",
      " [-1.26644467 -6.35909413 -0.99949745]\n",
      " [ 0.41017287 -4.63760468 -1.74766902]\n",
      " [ 0.57867785 -3.28166543 -1.590568  ]\n",
      " [ 1.58658934 -2.43716292 -2.06850399]\n",
      " [ 1.50037036 -1.07748514 -1.74949707]\n",
      " [ 0.44069039 -0.58337154 -0.98139425]\n",
      " [ 0.37233436  0.80880268 -0.67298851]\n",
      " [-0.77859626  1.59744112 -0.75133328]\n",
      " [-2.0885363   1.3046274  -1.18752465]\n",
      " [-3.04920741  2.32011206 -1.1722164 ]\n",
      " [-2.72150406  3.60283641 -0.75496924]\n",
      " [-1.4159406   3.90194501 -0.35867449]\n",
      " [-0.42620324  2.89372248 -0.36801596]\n",
      " [ 0.96588559  2.89468423 -0.06134299]\n",
      " [ 1.85660367  3.90202396  0.37227175]\n",
      " [ 3.19202783  3.58785996  0.63479717]\n",
      " [ 3.64646274  2.28481539  0.48486988]\n",
      " [ 2.78547089  1.27119453  0.05397243]\n",
      " [ 1.44562088  1.59599549 -0.24769331]\n",
      " [-0.56079057 -1.44930399 -0.51157976]\n",
      " [-0.48979802 -2.82434764 -0.82171167]\n",
      " [-2.895861   -7.49182054 -0.1664188 ]\n",
      " [-3.97564384 -5.54626462  0.90566769]\n",
      " [-2.98277648 -3.28210217  0.70142777]\n",
      " [-0.79404806 -7.21576079 -1.46890673]\n",
      " [ 1.03711394 -5.23550902 -2.26502932]\n",
      " [ 2.40420703 -2.81387797 -2.67486552]\n",
      " [ 2.25747169 -0.40736181 -2.15225853]\n",
      " [-2.36106443  0.31793412 -1.5498807 ]\n",
      " [-4.06290321  2.1020318  -1.50058086]\n",
      " [-3.47840912  4.38287751 -0.75031248]\n",
      " [-1.1620288   4.91301904 -0.05314026]\n",
      " [ 1.50298524  4.91959189  0.5123939 ]\n",
      " [ 3.87217443  4.36531469  0.97299947]\n",
      " [ 4.6822431   2.04523746  0.71433639]\n",
      " [ 3.15529965  0.25331896 -0.02248026]\n",
      " [-1.36826618 -1.09230868  0.12064119]]\n"
     ]
    }
   ],
   "source": [
    "smiles = \"c1ccc2c(c1)[nH]c1ccc(-n3c4ccccc4c4ccccc43)cc12\"\n",
    "atoms = get_atoms(smiles)\n",
    "print(atoms.positions)"
   ]
  },
  {
   "cell_type": "markdown",
   "id": "6312c010",
   "metadata": {},
   "source": [
    "You can pre-optimization of the geometry using EMT()"
   ]
  },
  {
   "cell_type": "code",
   "execution_count": 7,
   "id": "01a52451",
   "metadata": {},
   "outputs": [
    {
     "name": "stdout",
     "output_type": "stream",
     "text": [
      "[[-0.94794278 -3.55522465 -0.44506986]\n",
      " [-2.14811272 -2.9940373  -1.38388179]\n",
      " [-0.16325025 -2.95403698  0.56906343]\n",
      " [-1.38515739 -2.0751588  -0.63472041]\n",
      " [-0.84451861 -3.15040774 -2.006958  ]\n",
      " [-1.63399691 -4.13463004 -1.52427247]\n",
      " [ 0.81306341 -2.07839619  0.38076275]\n",
      " [ 0.16681461 -2.66227836 -0.983762  ]\n",
      " [ 0.56453405 -1.24634571 -0.88748688]\n",
      " [ 0.48405081 -0.6340928   0.58301782]\n",
      " [-0.84436474 -0.58534074 -0.61289354]\n",
      " [-0.21407824 -0.46115762 -2.09174647]\n",
      " [-0.38673461  0.64284064  0.5206211 ]\n",
      " [-0.82042554  0.73492906 -1.77395709]\n",
      " [-1.5032883   0.72603807 -0.42186098]\n",
      " [-1.21098678  1.95399858 -1.24437647]\n",
      " [-0.98574954  1.98943413  0.08960292]\n",
      " [ 0.20201573  1.91188917 -1.02442379]\n",
      " [ 0.39248301  1.98500102  0.55961421]\n",
      " [ 1.40200673  2.57226807 -0.49699106]\n",
      " [ 1.83657512  1.93353935  0.58170434]\n",
      " [ 1.67998005  1.28082731 -0.7298922 ]\n",
      " [ 1.19667923  0.68172147  0.57875162]\n",
      " [ 0.49834749  0.36702775 -0.87590278]\n",
      " [-0.76088733 -1.68712558 -1.96588937]\n",
      " [-0.61716123 -1.60800566  0.6035709 ]\n",
      " [-1.0178988  -4.93072417 -0.38580974]\n",
      " [-2.28762852 -4.01224316 -0.07864775]\n",
      " [-1.84225075 -2.78064049  0.70536648]\n",
      " [-0.12492016 -4.48438032 -1.50974874]\n",
      " [ 0.57690303 -4.01929912 -0.37712681]\n",
      " [ 0.87840787 -1.80410179 -2.2830645 ]\n",
      " [ 1.44027364 -0.39000721 -1.87790687]\n",
      " [-2.0901684  -0.67037282 -1.5551625 ]\n",
      " [-2.35017844  0.80677991 -1.67342294]\n",
      " [-2.52839009  1.80022785 -0.52604663]\n",
      " [-0.09317007  3.33120465 -0.29236984]\n",
      " [ 1.01438103  3.36760953  0.71921822]\n",
      " [ 2.96877769  1.98790598 -0.3811363 ]\n",
      " [ 2.71589444  0.64185792  0.16761248]\n",
      " [ 1.95674878 -0.44192607 -0.47145863]\n",
      " [-2.21015538 -0.89999722 -0.03026764]]\n"
     ]
    }
   ],
   "source": [
    "atoms = pre_optimize(atoms)\n",
    "print(atoms.positions)"
   ]
  },
  {
   "cell_type": "code",
   "execution_count": 9,
   "id": "5f06b757",
   "metadata": {},
   "outputs": [
    {
     "ename": "KohnShamConvergenceError",
     "evalue": "Did not converge!  See text output for help.",
     "output_type": "error",
     "traceback": [
      "\u001b[0;31m---------------------------------------------------------------------------\u001b[0m",
      "\u001b[0;31mKohnShamConvergenceError\u001b[0m                  Traceback (most recent call last)",
      "\u001b[0;32m/tmp/ipykernel_362/1358651669.py\u001b[0m in \u001b[0;36m<module>\u001b[0;34m\u001b[0m\n\u001b[1;32m      9\u001b[0m \u001b[0matoms\u001b[0m\u001b[0;34m.\u001b[0m\u001b[0mcalc\u001b[0m \u001b[0;34m=\u001b[0m \u001b[0mcalc\u001b[0m\u001b[0;34m\u001b[0m\u001b[0;34m\u001b[0m\u001b[0m\n\u001b[1;32m     10\u001b[0m \u001b[0matoms\u001b[0m\u001b[0;34m.\u001b[0m\u001b[0mcenter\u001b[0m\u001b[0;34m(\u001b[0m\u001b[0mvacuum\u001b[0m\u001b[0;34m=\u001b[0m\u001b[0;36m5.0\u001b[0m\u001b[0;34m)\u001b[0m\u001b[0;34m\u001b[0m\u001b[0;34m\u001b[0m\u001b[0m\n\u001b[0;32m---> 11\u001b[0;31m \u001b[0me1\u001b[0m \u001b[0;34m=\u001b[0m \u001b[0matoms\u001b[0m\u001b[0;34m.\u001b[0m\u001b[0mget_potential_energy\u001b[0m\u001b[0;34m(\u001b[0m\u001b[0;34m)\u001b[0m\u001b[0;34m\u001b[0m\u001b[0;34m\u001b[0m\u001b[0m\n\u001b[0m\u001b[1;32m     12\u001b[0m \u001b[0mprint\u001b[0m\u001b[0;34m(\u001b[0m\u001b[0;34mf'test molecule energy: {e1:5.2f} eV'\u001b[0m\u001b[0;34m)\u001b[0m\u001b[0;34m\u001b[0m\u001b[0;34m\u001b[0m\u001b[0m\n",
      "\u001b[0;32m/usr/local/lib/python3.9/site-packages/ase/atoms.py\u001b[0m in \u001b[0;36mget_potential_energy\u001b[0;34m(self, force_consistent, apply_constraint)\u001b[0m\n\u001b[1;32m    729\u001b[0m                 self, force_consistent=force_consistent)\n\u001b[1;32m    730\u001b[0m         \u001b[0;32melse\u001b[0m\u001b[0;34m:\u001b[0m\u001b[0;34m\u001b[0m\u001b[0;34m\u001b[0m\u001b[0m\n\u001b[0;32m--> 731\u001b[0;31m             \u001b[0menergy\u001b[0m \u001b[0;34m=\u001b[0m \u001b[0mself\u001b[0m\u001b[0;34m.\u001b[0m\u001b[0m_calc\u001b[0m\u001b[0;34m.\u001b[0m\u001b[0mget_potential_energy\u001b[0m\u001b[0;34m(\u001b[0m\u001b[0mself\u001b[0m\u001b[0;34m)\u001b[0m\u001b[0;34m\u001b[0m\u001b[0;34m\u001b[0m\u001b[0m\n\u001b[0m\u001b[1;32m    732\u001b[0m         \u001b[0;32mif\u001b[0m \u001b[0mapply_constraint\u001b[0m\u001b[0;34m:\u001b[0m\u001b[0;34m\u001b[0m\u001b[0;34m\u001b[0m\u001b[0m\n\u001b[1;32m    733\u001b[0m             \u001b[0;32mfor\u001b[0m \u001b[0mconstraint\u001b[0m \u001b[0;32min\u001b[0m \u001b[0mself\u001b[0m\u001b[0;34m.\u001b[0m\u001b[0mconstraints\u001b[0m\u001b[0;34m:\u001b[0m\u001b[0;34m\u001b[0m\u001b[0;34m\u001b[0m\u001b[0m\n",
      "\u001b[0;32m/usr/local/lib/python3.9/site-packages/ase/calculators/calculator.py\u001b[0m in \u001b[0;36mget_potential_energy\u001b[0;34m(self, atoms, force_consistent)\u001b[0m\n\u001b[1;32m    707\u001b[0m \u001b[0;34m\u001b[0m\u001b[0m\n\u001b[1;32m    708\u001b[0m     \u001b[0;32mdef\u001b[0m \u001b[0mget_potential_energy\u001b[0m\u001b[0;34m(\u001b[0m\u001b[0mself\u001b[0m\u001b[0;34m,\u001b[0m \u001b[0matoms\u001b[0m\u001b[0;34m=\u001b[0m\u001b[0;32mNone\u001b[0m\u001b[0;34m,\u001b[0m \u001b[0mforce_consistent\u001b[0m\u001b[0;34m=\u001b[0m\u001b[0;32mFalse\u001b[0m\u001b[0;34m)\u001b[0m\u001b[0;34m:\u001b[0m\u001b[0;34m\u001b[0m\u001b[0;34m\u001b[0m\u001b[0m\n\u001b[0;32m--> 709\u001b[0;31m         \u001b[0menergy\u001b[0m \u001b[0;34m=\u001b[0m \u001b[0mself\u001b[0m\u001b[0;34m.\u001b[0m\u001b[0mget_property\u001b[0m\u001b[0;34m(\u001b[0m\u001b[0;34m'energy'\u001b[0m\u001b[0;34m,\u001b[0m \u001b[0matoms\u001b[0m\u001b[0;34m)\u001b[0m\u001b[0;34m\u001b[0m\u001b[0;34m\u001b[0m\u001b[0m\n\u001b[0m\u001b[1;32m    710\u001b[0m         \u001b[0;32mif\u001b[0m \u001b[0mforce_consistent\u001b[0m\u001b[0;34m:\u001b[0m\u001b[0;34m\u001b[0m\u001b[0;34m\u001b[0m\u001b[0m\n\u001b[1;32m    711\u001b[0m             \u001b[0;32mif\u001b[0m \u001b[0;34m'free_energy'\u001b[0m \u001b[0;32mnot\u001b[0m \u001b[0;32min\u001b[0m \u001b[0mself\u001b[0m\u001b[0;34m.\u001b[0m\u001b[0mresults\u001b[0m\u001b[0;34m:\u001b[0m\u001b[0;34m\u001b[0m\u001b[0;34m\u001b[0m\u001b[0m\n",
      "\u001b[0;32m/usr/local/lib/python3.9/site-packages/ase/calculators/calculator.py\u001b[0m in \u001b[0;36mget_property\u001b[0;34m(self, name, atoms, allow_calculation)\u001b[0m\n\u001b[1;32m    735\u001b[0m             \u001b[0;32mif\u001b[0m \u001b[0;32mnot\u001b[0m \u001b[0mallow_calculation\u001b[0m\u001b[0;34m:\u001b[0m\u001b[0;34m\u001b[0m\u001b[0;34m\u001b[0m\u001b[0m\n\u001b[1;32m    736\u001b[0m                 \u001b[0;32mreturn\u001b[0m \u001b[0;32mNone\u001b[0m\u001b[0;34m\u001b[0m\u001b[0;34m\u001b[0m\u001b[0m\n\u001b[0;32m--> 737\u001b[0;31m             \u001b[0mself\u001b[0m\u001b[0;34m.\u001b[0m\u001b[0mcalculate\u001b[0m\u001b[0;34m(\u001b[0m\u001b[0matoms\u001b[0m\u001b[0;34m,\u001b[0m \u001b[0;34m[\u001b[0m\u001b[0mname\u001b[0m\u001b[0;34m]\u001b[0m\u001b[0;34m,\u001b[0m \u001b[0msystem_changes\u001b[0m\u001b[0;34m)\u001b[0m\u001b[0;34m\u001b[0m\u001b[0;34m\u001b[0m\u001b[0m\n\u001b[0m\u001b[1;32m    738\u001b[0m \u001b[0;34m\u001b[0m\u001b[0m\n\u001b[1;32m    739\u001b[0m         \u001b[0;32mif\u001b[0m \u001b[0mname\u001b[0m \u001b[0;32mnot\u001b[0m \u001b[0;32min\u001b[0m \u001b[0mself\u001b[0m\u001b[0;34m.\u001b[0m\u001b[0mresults\u001b[0m\u001b[0;34m:\u001b[0m\u001b[0;34m\u001b[0m\u001b[0;34m\u001b[0m\u001b[0m\n",
      "\u001b[0;32m/usr/local/lib64/python3.9/site-packages/gpaw/calculator.py\u001b[0m in \u001b[0;36mcalculate\u001b[0;34m(self, atoms, properties, system_changes)\u001b[0m\n\u001b[1;32m    329\u001b[0m     def calculate(self, atoms=None, properties=['energy'],\n\u001b[1;32m    330\u001b[0m                   system_changes=['cell']):\n\u001b[0;32m--> 331\u001b[0;31m         \u001b[0;32mfor\u001b[0m \u001b[0m_\u001b[0m \u001b[0;32min\u001b[0m \u001b[0mself\u001b[0m\u001b[0;34m.\u001b[0m\u001b[0micalculate\u001b[0m\u001b[0;34m(\u001b[0m\u001b[0matoms\u001b[0m\u001b[0;34m,\u001b[0m \u001b[0mproperties\u001b[0m\u001b[0;34m,\u001b[0m \u001b[0msystem_changes\u001b[0m\u001b[0;34m)\u001b[0m\u001b[0;34m:\u001b[0m\u001b[0;34m\u001b[0m\u001b[0;34m\u001b[0m\u001b[0m\n\u001b[0m\u001b[1;32m    332\u001b[0m             \u001b[0;32mpass\u001b[0m\u001b[0;34m\u001b[0m\u001b[0;34m\u001b[0m\u001b[0m\n\u001b[1;32m    333\u001b[0m \u001b[0;34m\u001b[0m\u001b[0m\n",
      "\u001b[0;32m/usr/local/lib64/python3.9/site-packages/gpaw/calculator.py\u001b[0m in \u001b[0;36micalculate\u001b[0;34m(self, atoms, properties, system_changes)\u001b[0m\n\u001b[1;32m    367\u001b[0m \u001b[0;34m\u001b[0m\u001b[0m\n\u001b[1;32m    368\u001b[0m             \u001b[0;32mwith\u001b[0m \u001b[0mself\u001b[0m\u001b[0;34m.\u001b[0m\u001b[0mtimer\u001b[0m\u001b[0;34m(\u001b[0m\u001b[0;34m'SCF-cycle'\u001b[0m\u001b[0;34m)\u001b[0m\u001b[0;34m:\u001b[0m\u001b[0;34m\u001b[0m\u001b[0;34m\u001b[0m\u001b[0m\n\u001b[0;32m--> 369\u001b[0;31m                 yield from self.scf.irun(\n\u001b[0m\u001b[1;32m    370\u001b[0m                     \u001b[0mself\u001b[0m\u001b[0;34m.\u001b[0m\u001b[0mwfs\u001b[0m\u001b[0;34m,\u001b[0m \u001b[0mself\u001b[0m\u001b[0;34m.\u001b[0m\u001b[0mhamiltonian\u001b[0m\u001b[0;34m,\u001b[0m\u001b[0;34m\u001b[0m\u001b[0;34m\u001b[0m\u001b[0m\n\u001b[1;32m    371\u001b[0m                     \u001b[0mself\u001b[0m\u001b[0;34m.\u001b[0m\u001b[0mdensity\u001b[0m\u001b[0;34m,\u001b[0m\u001b[0;34m\u001b[0m\u001b[0;34m\u001b[0m\u001b[0m\n",
      "\u001b[0;32m/usr/local/lib64/python3.9/site-packages/gpaw/scf.py\u001b[0m in \u001b[0;36mirun\u001b[0;34m(self, wfs, ham, dens, log, callback)\u001b[0m\n\u001b[1;32m     98\u001b[0m                 \u001b[0;32mraise\u001b[0m \u001b[0mKohnShamConvergenceError\u001b[0m\u001b[0;34m(\u001b[0m\u001b[0mmsg\u001b[0m\u001b[0;34m)\u001b[0m\u001b[0;34m\u001b[0m\u001b[0;34m\u001b[0m\u001b[0m\n\u001b[1;32m     99\u001b[0m             \u001b[0mlog\u001b[0m\u001b[0;34m(\u001b[0m\u001b[0moops\u001b[0m\u001b[0;34m)\u001b[0m\u001b[0;34m\u001b[0m\u001b[0;34m\u001b[0m\u001b[0m\n\u001b[0;32m--> 100\u001b[0;31m             raise KohnShamConvergenceError(\n\u001b[0m\u001b[1;32m    101\u001b[0m                 'Did not converge!  See text output for help.')\n\u001b[1;32m    102\u001b[0m \u001b[0;34m\u001b[0m\u001b[0m\n",
      "\u001b[0;31mKohnShamConvergenceError\u001b[0m: Did not converge!  See text output for help."
     ]
    }
   ],
   "source": [
    "from gpaw import GPAW, PW, FermiDirac\n",
    "\n",
    "calc = GPAW(\n",
    "    mode=PW(),\n",
    "    xc='PBE',\n",
    "    occupations=FermiDirac(0.0, fixmagmom=True),\n",
    "    txt='temp.gpo'\n",
    ")\n",
    "atoms.calc = calc\n",
    "atoms.center(vacuum=5.0)\n",
    "e1 = atoms.get_potential_energy()\n",
    "print(f'test molecule energy: {e1:5.2f} eV')"
   ]
  },
  {
   "cell_type": "code",
   "execution_count": null,
   "id": "31b4e5b9",
   "metadata": {},
   "outputs": [],
   "source": []
  }
 ],
 "metadata": {
  "kernelspec": {
   "display_name": "Python 3 (ipykernel)",
   "language": "python",
   "name": "python3"
  },
  "language_info": {
   "codemirror_mode": {
    "name": "ipython",
    "version": 3
   },
   "file_extension": ".py",
   "mimetype": "text/x-python",
   "name": "python",
   "nbconvert_exporter": "python",
   "pygments_lexer": "ipython3",
   "version": "3.9.7"
  }
 },
 "nbformat": 4,
 "nbformat_minor": 5
}
