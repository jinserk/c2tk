{
 "cells": [
  {
   "cell_type": "code",
   "execution_count": 2,
   "id": "3388ef40",
   "metadata": {},
   "outputs": [
    {
     "name": "stdout",
     "output_type": "stream",
     "text": [
      "The autoreload extension is already loaded. To reload it, use:\n",
      "  %reload_ext autoreload\n"
     ]
    }
   ],
   "source": [
    "%load_ext autoreload\n",
    "%autoreload 2\n",
    "from c2tk.conformer import get_atoms, pre_optimize"
   ]
  },
  {
   "cell_type": "markdown",
   "id": "410efa39",
   "metadata": {},
   "source": [
    "Guess a conformer geometry of a molecule"
   ]
  },
  {
   "cell_type": "code",
   "execution_count": 8,
   "id": "014ed91c",
   "metadata": {},
   "outputs": [
    {
     "data": {
      "application/vnd.jupyter.widget-view+json": {
       "model_id": "9291a357733c4832b49842edb5291271",
       "version_major": 2,
       "version_minor": 0
      },
      "text/plain": [
       "HBox(children=(NGLWidget(), VBox(children=(Dropdown(description='Show', options=('All', 'C', 'N', 'H'), value=…"
      ]
     },
     "metadata": {},
     "output_type": "display_data"
    }
   ],
   "source": [
    "from ase.visualize import view\n",
    "smiles = \"c1ccc2c(c1)[nH]c1ccc(-n3c4ccccc4c4ccccc43)cc12\"\n",
    "atoms = get_atoms(smiles)\n",
    "view(atoms, viewer=\"ngl\")"
   ]
  },
  {
   "cell_type": "markdown",
   "id": "6312c010",
   "metadata": {},
   "source": [
    "You can pre-optimization of the geometry using EMT()"
   ]
  },
  {
   "cell_type": "code",
   "execution_count": 9,
   "id": "01a52451",
   "metadata": {},
   "outputs": [
    {
     "data": {
      "application/vnd.jupyter.widget-view+json": {
       "model_id": "8b84f2a2ae9d4768a1f6768c0920abb2",
       "version_major": 2,
       "version_minor": 0
      },
      "text/plain": [
       "HBox(children=(NGLWidget(), VBox(children=(Dropdown(description='Show', options=('All', 'C', 'N', 'H'), value=…"
      ]
     },
     "metadata": {},
     "output_type": "display_data"
    }
   ],
   "source": [
    "atoms = pre_optimize(atoms)\n",
    "view(atoms, viewer=\"ngl\")"
   ]
  },
  {
   "cell_type": "code",
   "execution_count": null,
   "id": "5f06b757",
   "metadata": {},
   "outputs": [],
   "source": [
    "from c2tk.calculators.nwchem import NWChem\n",
    "\n",
    "calc = NWChem(label='nwchem',\n",
    "              dft={\n",
    "                'maxiter': 2000,\n",
    "                'xc': 'B3LYP',\n",
    "              }, \n",
    "              basis='6-31+G*',\n",
    "             )\n",
    "atoms.calc = calc                                                                                                                                                                                                                                                          \n",
    "                                                                                                                                                                                                                                                                               \n",
    "e1 = atoms.get_potential_energy()                                                                                                                                                                                                                                                          \n",
    "print(f'test molecule energy: {e1:5.2f} eV')"
   ]
  },
  {
   "cell_type": "code",
   "execution_count": null,
   "id": "31b4e5b9",
   "metadata": {},
   "outputs": [],
   "source": []
  }
 ],
 "metadata": {
  "kernelspec": {
   "display_name": "Python 3 (ipykernel)",
   "language": "python",
   "name": "python3"
  },
  "language_info": {
   "codemirror_mode": {
    "name": "ipython",
    "version": 3
   },
   "file_extension": ".py",
   "mimetype": "text/x-python",
   "name": "python",
   "nbconvert_exporter": "python",
   "pygments_lexer": "ipython3",
   "version": "3.9.7"
  }
 },
 "nbformat": 4,
 "nbformat_minor": 5
}
