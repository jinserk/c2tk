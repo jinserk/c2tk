{
 "cells": [
  {
   "cell_type": "code",
   "execution_count": 1,
   "id": "3388ef40",
   "metadata": {},
   "outputs": [
    {
     "name": "stdout",
     "output_type": "stream",
     "text": [
      "The autoreload extension is already loaded. To reload it, use:\n",
      "  %reload_ext autoreload\n",
      "test molecule energy: 13.77 eV\n"
     ]
    },
    {
     "data": {
      "application/vnd.jupyter.widget-view+json": {
       "model_id": "e9d9ee4b5b2442b38ebc877fdbbb1455",
       "version_major": 2,
       "version_minor": 0
      },
      "text/plain": []
     },
     "metadata": {},
     "output_type": "display_data"
    },
    {
     "data": {
      "application/vnd.jupyter.widget-view+json": {
       "model_id": "a9ebf41476ed4441bae9080064e41f04",
       "version_major": 2,
       "version_minor": 0
      },
      "text/plain": [
       "HBox(children=(NGLWidget(), VBox(children=(Dropdown(description='Show', options=('All', 'N', 'H', 'C'), value=…"
      ]
     },
     "metadata": {},
     "output_type": "display_data"
    }
   ],
   "source": [
    "%load_ext autoreload\n",
    "%autoreload 2\n",
    "import numpy as np\n",
    "\n",
    "from ase.visualize import view\n",
    "from ase.calculators.emt import EMT\n",
    "from ase.vibrations import Vibrations\n",
    "\n",
    "from c2tk.conformer import get_atoms, pre_optimize\n",
    "\n",
    "smiles = \"c1ccc2c(c1)[nH]c1ccc(-n3c4ccccc4c4ccccc43)cc12\"\n",
    "atoms = get_atoms(smiles)\n",
    "\n",
    "atoms.calc = EMT()\n",
    "e = atoms.get_potential_energy()\n",
    "print(f'test molecule energy: {e:5.2f} eV')\n",
    "\n",
    "view(atoms, viewer=\"ngl\")"
   ]
  },
  {
   "cell_type": "code",
   "execution_count": 2,
   "id": "014ed91c",
   "metadata": {},
   "outputs": [
    {
     "name": "stdout",
     "output_type": "stream",
     "text": [
      "test molecule energy: 17.99 eV\n"
     ]
    },
    {
     "data": {
      "application/vnd.jupyter.widget-view+json": {
       "model_id": "2456de644bc144969b7a8575a6d344eb",
       "version_major": 2,
       "version_minor": 0
      },
      "text/plain": [
       "HBox(children=(NGLWidget(), VBox(children=(Dropdown(description='Show', options=('All', 'N', 'H', 'C'), value=…"
      ]
     },
     "metadata": {},
     "output_type": "display_data"
    }
   ],
   "source": [
    "a1 = atoms.copy()\n",
    "a1.center(vacuum=50.0)\n",
    "a1 = pre_optimize(a1)\n",
    "\n",
    "a1.calc = EMT()\n",
    "e1 = a1.get_potential_energy()\n",
    "print(f'test molecule energy: {e1:5.2f} eV')\n",
    "\n",
    "view(a1, viewer=\"ngl\")"
   ]
  },
  {
   "cell_type": "code",
   "execution_count": null,
   "id": "b33d8524",
   "metadata": {},
   "outputs": [],
   "source": [
    "from c2tk.calculators.orca import ORCA\n",
    "\n",
    "a2 = atoms.copy()\n",
    "a2.center(vacuum=50.0)\n",
    "\n",
    "calc = ORCA(\n",
    "    label='temp',\n",
    "    orcasimpleinput='tightscf B3LYP/G def2-SVP kdiis opt freq',\n",
    "    orcablocks='%scf maxiter 200 end\\n%pal nprocs 8 end',\n",
    ")\n",
    "a2.calc = calc\n",
    "\n",
    "e2 = a2.get_potential_energy()\n",
    "print(f'test molecule energy: {e2:5.2f} eV')\n",
    "\n",
    "view(a2, viewer=\"ngl\")\n",
    "\n",
    "vib = Vibrations(a2)\n",
    "vib.run()\n",
    "vib.summary()"
   ]
  },
  {
   "cell_type": "code",
   "execution_count": 6,
   "id": "83d08226",
   "metadata": {},
   "outputs": [
    {
     "name": "stdout",
     "output_type": "stream",
     "text": [
      "test molecule energy: -28109.53 eV\n"
     ]
    },
    {
     "data": {
      "application/vnd.jupyter.widget-view+json": {
       "model_id": "abc78a47b499410c81968358095f8c31",
       "version_major": 2,
       "version_minor": 0
      },
      "text/plain": [
       "HBox(children=(NGLWidget(), VBox(children=(Dropdown(description='Show', options=('All', 'N', 'C', 'H'), value=…"
      ]
     },
     "metadata": {},
     "output_type": "display_data"
    }
   ],
   "source": [
    "from scm.plams import fromASE, toASE\n",
    "\n",
    "mol = fromASE(a2)\n",
    "mol.perturb_atoms(max_displacement=0.01, unit='angstrom')\n",
    "a2 = toASE(mol)\n",
    "a2.calc = calc\n",
    "\n",
    "e2 = a2.get_potential_energy()\n",
    "print(f'test molecule energy: {e2:5.2f} eV')\n",
    "\n",
    "view(a2, viewer=\"ngl\")"
   ]
  },
  {
   "cell_type": "code",
   "execution_count": null,
   "id": "a75f2dea",
   "metadata": {},
   "outputs": [],
   "source": [
    "\"\"\"\n",
    "from gpaw import PW, FermiDirac\n",
    "from c2tk.calculators.gpaw import GPAW\n",
    "\n",
    "a2 = atoms.copy()\n",
    "a2.center(vacuum=50.0)\n",
    "\n",
    "calc = GPAW(\n",
    "    mode=PW(),\n",
    "    xc='PBE',\n",
    "    occupations=FermiDirac(0.0, fixmagmom=True),\n",
    "    txt='temp.gpo',\n",
    ")\n",
    "a2.calc = calc\n",
    "\n",
    "e2 = a2.get_potential_energy()\n",
    "print(f'test molecule energy: {e2:5.2f} eV')\n",
    "\"\"\""
   ]
  },
  {
   "cell_type": "code",
   "execution_count": null,
   "id": "5f06b757",
   "metadata": {},
   "outputs": [],
   "source": [
    "\"\"\"\n",
    "from c2tk.calculators.nwchem import NWChem\n",
    "\n",
    "calc = NWChem(label='nwchem',\n",
    "              dft={\n",
    "                'maxiter': 2000,\n",
    "                'xc': 'B3LYP',\n",
    "              }, \n",
    "              basis='6-31+G*',\n",
    "             )\n",
    "atoms.calc = calc                                                                                                                                                                                                                                                          \n",
    "                                                                                                                                                                                                                                                                               \n",
    "e1 = atoms.get_potential_energy()                                                                                                                                                                                                                                                          \n",
    "print(f'test molecule energy: {e1:5.2f} eV')\n",
    "\"\"\""
   ]
  },
  {
   "cell_type": "code",
   "execution_count": null,
   "id": "31b4e5b9",
   "metadata": {},
   "outputs": [],
   "source": []
  }
 ],
 "metadata": {
  "kernelspec": {
   "display_name": "Python 3 (ipykernel)",
   "language": "python",
   "name": "python3"
  },
  "language_info": {
   "codemirror_mode": {
    "name": "ipython",
    "version": 3
   },
   "file_extension": ".py",
   "mimetype": "text/x-python",
   "name": "python",
   "nbconvert_exporter": "python",
   "pygments_lexer": "ipython3",
   "version": "3.9.7"
  }
 },
 "nbformat": 4,
 "nbformat_minor": 5
}
